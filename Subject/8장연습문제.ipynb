{
 "cells": [
  {
   "attachments": {},
   "cell_type": "markdown",
   "metadata": {},
   "source": [
    "# 연습문제 1\n",
    "\n",
    "### 2개 파티에 모두 참석한 사람들의 명단을 출력하시오\n",
    "##### ㅡㅡㅡㅡㅡㅡㅡㅡㅡㅡㅡㅡㅡㅡㅡㅡㅡㅡㅡㅡㅡㅡㅡㅡㅡㅡㅡㅡㅡㅡㅡㅡㅡ\n",
    "##### 집합의 교집합 이용"
   ]
  },
  {
   "cell_type": "code",
   "execution_count": 1,
   "metadata": {},
   "outputs": [
    {
     "name": "stdout",
     "output_type": "stream",
     "text": [
      "{'Park'}\n"
     ]
    }
   ],
   "source": [
    "partyA = set([\"Park\", \"Kim\", \"Lee\"])\n",
    "partyB = set([\"Park\", \"Choi\"])\n",
    "\n",
    "print(partyA & partyB)"
   ]
  },
  {
   "attachments": {},
   "cell_type": "markdown",
   "metadata": {},
   "source": [
    "# 연습문제 2\n",
    "\n",
    "### 파일에서 중복되지 않은 단어의 개수와 해당 단어를 출력하는 프로그램을 작성하시오.\n",
    "\n",
    "##### ㅡㅡㅡㅡㅡㅡㅡㅡㅡㅡㅡㅡㅡㅡㅡㅡㅡㅡㅡㅡㅡㅡㅡㅡㅡㅡㅡㅡㅡㅡㅡㅡㅡ\n",
    "##### 파일 이름을 입력 받아 파일 불러옴\n",
    "##### 줄마다 파일에서 불러오고 해당 줄을 다시 한번 단어마다 분리\n",
    "##### 같은 단어 중복을 없애햐하므로, 단어의 대문자들을 소문자로 교체\n",
    "##### 단어 뒤에 \".\" 이 있으면 안되므로, 검사 후 삭제\n",
    "##### 이후 집합에 존재할 경우 루프를 넘어가고 존재 안할 경우에는 집합에 추가\n"
   ]
  },
  {
   "cell_type": "code",
   "execution_count": 1,
   "metadata": {},
   "outputs": [
    {
     "ename": "FileNotFoundError",
     "evalue": "[Errno 2] No such file or directory: 'proverb.txt'",
     "output_type": "error",
     "traceback": [
      "\u001b[1;31m---------------------------------------------------------------------------\u001b[0m",
      "\u001b[1;31mFileNotFoundError\u001b[0m                         Traceback (most recent call last)",
      "\u001b[1;32mc:\\Users\\JinYoung\\Desktop\\GIT\\PythonProgramming\\Subject\\8장연습문제.ipynb Cell 4\u001b[0m line \u001b[0;36m5\n\u001b[0;32m      <a href='vscode-notebook-cell:/c%3A/Users/JinYoung/Desktop/GIT/PythonProgramming/Subject/8%EC%9E%A5%EC%97%B0%EC%8A%B5%EB%AC%B8%EC%A0%9C.ipynb#W3sZmlsZQ%3D%3D?line=0'>1</a>\u001b[0m words \u001b[39m=\u001b[39m \u001b[39mset\u001b[39m()\n\u001b[0;32m      <a href='vscode-notebook-cell:/c%3A/Users/JinYoung/Desktop/GIT/PythonProgramming/Subject/8%EC%9E%A5%EC%97%B0%EC%8A%B5%EB%AC%B8%EC%A0%9C.ipynb#W3sZmlsZQ%3D%3D?line=2'>3</a>\u001b[0m data \u001b[39m=\u001b[39m \u001b[39minput\u001b[39m(\u001b[39m\"\u001b[39m\u001b[39m파일 이름 : \u001b[39m\u001b[39m\"\u001b[39m)\n\u001b[1;32m----> <a href='vscode-notebook-cell:/c%3A/Users/JinYoung/Desktop/GIT/PythonProgramming/Subject/8%EC%9E%A5%EC%97%B0%EC%8A%B5%EB%AC%B8%EC%A0%9C.ipynb#W3sZmlsZQ%3D%3D?line=4'>5</a>\u001b[0m file \u001b[39m=\u001b[39m \u001b[39mopen\u001b[39;49m(data)\n\u001b[0;32m      <a href='vscode-notebook-cell:/c%3A/Users/JinYoung/Desktop/GIT/PythonProgramming/Subject/8%EC%9E%A5%EC%97%B0%EC%8A%B5%EB%AC%B8%EC%A0%9C.ipynb#W3sZmlsZQ%3D%3D?line=6'>7</a>\u001b[0m \u001b[39mfor\u001b[39;00m line \u001b[39min\u001b[39;00m file:\n\u001b[0;32m      <a href='vscode-notebook-cell:/c%3A/Users/JinYoung/Desktop/GIT/PythonProgramming/Subject/8%EC%9E%A5%EC%97%B0%EC%8A%B5%EB%AC%B8%EC%A0%9C.ipynb#W3sZmlsZQ%3D%3D?line=7'>8</a>\u001b[0m     lineword \u001b[39m=\u001b[39m line\u001b[39m.\u001b[39msplit()\n",
      "File \u001b[1;32m~\\AppData\\Roaming\\Python\\Python311\\site-packages\\IPython\\core\\interactiveshell.py:286\u001b[0m, in \u001b[0;36m_modified_open\u001b[1;34m(file, *args, **kwargs)\u001b[0m\n\u001b[0;32m    279\u001b[0m \u001b[39mif\u001b[39;00m file \u001b[39min\u001b[39;00m {\u001b[39m0\u001b[39m, \u001b[39m1\u001b[39m, \u001b[39m2\u001b[39m}:\n\u001b[0;32m    280\u001b[0m     \u001b[39mraise\u001b[39;00m \u001b[39mValueError\u001b[39;00m(\n\u001b[0;32m    281\u001b[0m         \u001b[39mf\u001b[39m\u001b[39m\"\u001b[39m\u001b[39mIPython won\u001b[39m\u001b[39m'\u001b[39m\u001b[39mt let you open fd=\u001b[39m\u001b[39m{\u001b[39;00mfile\u001b[39m}\u001b[39;00m\u001b[39m by default \u001b[39m\u001b[39m\"\u001b[39m\n\u001b[0;32m    282\u001b[0m         \u001b[39m\"\u001b[39m\u001b[39mas it is likely to crash IPython. If you know what you are doing, \u001b[39m\u001b[39m\"\u001b[39m\n\u001b[0;32m    283\u001b[0m         \u001b[39m\"\u001b[39m\u001b[39myou can use builtins\u001b[39m\u001b[39m'\u001b[39m\u001b[39m open.\u001b[39m\u001b[39m\"\u001b[39m\n\u001b[0;32m    284\u001b[0m     )\n\u001b[1;32m--> 286\u001b[0m \u001b[39mreturn\u001b[39;00m io_open(file, \u001b[39m*\u001b[39;49margs, \u001b[39m*\u001b[39;49m\u001b[39m*\u001b[39;49mkwargs)\n",
      "\u001b[1;31mFileNotFoundError\u001b[0m: [Errno 2] No such file or directory: 'proverb.txt'"
     ]
    }
   ],
   "source": [
    "words = set()\n",
    "\n",
    "data = input(\"파일 이름 : \")\n",
    "\n",
    "file = open(data)\n",
    "\n",
    "for line in file:\n",
    "    lineword = line.split()\n",
    "    for word in lineword:\n",
    "        w = word.lower()\n",
    "        if \".\" in w:\n",
    "            w = w.replace('.', '')\n",
    "        if w in words:\n",
    "            continue\n",
    "        else:\n",
    "            words.add(w)\n",
    "\n",
    "file.close()\n",
    "\n",
    "print(\"파일 이름 :\", data)\n",
    "print(\"사용된 단어의 개수 :\", len(words))\n",
    "print(words)"
   ]
  },
  {
   "attachments": {},
   "cell_type": "markdown",
   "metadata": {},
   "source": [
    "# 연습문제 3\n",
    "\n",
    "### 첨부한 파일(proverbs.txt)을 읽어서 포함된 각 단어의 빈도수를 출력하는 프로그램을 작성하시오\n",
    "\n",
    "##### ㅡㅡㅡㅡㅡㅡㅡㅡㅡㅡㅡㅡㅡㅡㅡㅡㅡㅡㅡㅡㅡㅡㅡㅡㅡㅡㅡㅡㅡㅡㅡㅡㅡㅡㅡㅡㅡㅡㅡㅡㅡㅡㅡㅡㅡㅡㅡㅡㅡㅡㅡㅡㅡㅡㅡㅡㅡㅡ\n",
    "##### 파일 불러오고 하는 과정은 2번과 동일\n",
    "##### 단어 뒤의 \".\"문자가 있으면 안되므로 삭제\n",
    "##### 딕셔너리에 이미 존재하면 안되므로 딕셔너리의 keys() 함수를 통해 해당 단어가 딕셔너리에 존재하는지 판단\n",
    "##### 존재할 경우 해당 키의 value를 +1, 존재하지않을 경우 딕셔너리에 {\" \" : 1}의 느낌으로 추가"
   ]
  },
  {
   "cell_type": "code",
   "execution_count": 4,
   "metadata": {},
   "outputs": [
    {
     "name": "stdout",
     "output_type": "stream",
     "text": [
      "<class 'list'>\n",
      "<class 'list'>\n",
      "<class 'list'>\n",
      "<class 'list'>\n",
      "<class 'list'>\n",
      "<class 'list'>\n",
      "파일 이름 : proverbs.txt\n",
      "사용된 단어의 개수 : 19\n",
      "{'All': 1, 'is': 2, 'well': 2, 'that': 1, 'ends': 1, 'Bad': 1, 'news': 1, 'travels': 1, 'fast': 1, 'Well': 1, 'begun': 1, 'half': 1, 'done': 1, 'Birds': 1, 'of': 1, 'a': 1, 'feather': 1, 'flock': 1, 'together': 1}\n"
     ]
    }
   ],
   "source": [
    "words = dict()\n",
    "\n",
    "data = input(\"파일 이름 : \")\n",
    "\n",
    "file = open(data)\n",
    "\n",
    "for line in file:\n",
    "    lineword = line.split()\n",
    "    \n",
    "    for word in lineword:\n",
    "        w = word\n",
    "        if \".\" in w:\n",
    "            w = word.replace('.', '')\n",
    "        if w in words.keys():\n",
    "            words[w] += 1\n",
    "        else:\n",
    "            words[w] = 1\n",
    "\n",
    "file.close()\n",
    "\n",
    "print(\"파일 이름 :\", data)\n",
    "print(\"사용된 단어의 개수 :\", len(words))\n",
    "print(words)"
   ]
  },
  {
   "attachments": {},
   "cell_type": "markdown",
   "metadata": {},
   "source": [
    "# 연습문제 4\n",
    "\n",
    "### 입력 받은 문자열에 미리 정해진 축약어가 포함된 경우에는, 해당 축약어를 풀어서 출력하시오.\n",
    "##### B4(Before), TX(Thanks), BBL(Be Back Later), BCNU(Be Seeing You), HAND(Have A Nice Day)\n",
    "\n",
    "##### ㅡㅡㅡㅡㅡㅡㅡㅡㅡㅡㅡㅡㅡㅡㅡㅡㅡㅡㅡㅡㅡㅡㅡㅡㅡㅡㅡㅡㅡㅡㅡㅡㅡㅡㅡㅡㅡㅡㅡㅡㅡㅡㅡㅡㅡㅡㅡㅡㅡㅡㅡㅡㅡㅡㅡ\n",
    "##### 문장을 입력받음\n",
    "##### replace 함수를 통해 명령값들이 문장에 있는지 판별 후 다른 문장으로 교체"
   ]
  },
  {
   "cell_type": "code",
   "execution_count": 8,
   "metadata": {},
   "outputs": [
    {
     "name": "stdout",
     "output_type": "stream",
     "text": [
      "Have A Nice Daymr.Park\n"
     ]
    }
   ],
   "source": [
    "myStr = input(\"번역할 문장 입력 :\")\n",
    "\n",
    "if \"B4\" in myStr:\n",
    "    myStr = myStr.replace(\"B4\", 'Before')\n",
    "elif \"TX\" in myStr:\n",
    "    myStr = myStr.replace(\"TX\", 'Thanks')\n",
    "elif \"BBL\" in myStr:\n",
    "    myStr = myStr.replace(\"BBL\", 'Be Back Later')\n",
    "elif \"BCNU\" in myStr:\n",
    "    myStr = myStr.replace(\"BCNU\", 'Be Seeing You')\n",
    "elif \"HAND\" in myStr:\n",
    "    myStr = myStr.replace(\"HAND\", 'Have A Nice Day')\n",
    "\n",
    "print(myStr)"
   ]
  },
  {
   "cell_type": "code",
   "execution_count": null,
   "metadata": {},
   "outputs": [],
   "source": []
  }
 ],
 "metadata": {
  "kernelspec": {
   "display_name": "Python 3",
   "language": "python",
   "name": "python3"
  },
  "language_info": {
   "codemirror_mode": {
    "name": "ipython",
    "version": 3
   },
   "file_extension": ".py",
   "mimetype": "text/x-python",
   "name": "python",
   "nbconvert_exporter": "python",
   "pygments_lexer": "ipython3",
   "version": "3.11.5"
  },
  "orig_nbformat": 4
 },
 "nbformat": 4,
 "nbformat_minor": 2
}
