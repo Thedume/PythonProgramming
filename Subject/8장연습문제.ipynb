{
 "cells": [
  {
   "attachments": {},
   "cell_type": "markdown",
   "metadata": {},
   "source": [
    "# 연습문제 1\n",
    "\n",
    "### 2개 파티에 모두 참석한 사람들의 명단을 출력하시오\n",
    "##### ㅡㅡㅡㅡㅡㅡㅡㅡㅡㅡㅡㅡㅡㅡㅡㅡㅡㅡㅡㅡㅡㅡㅡㅡㅡㅡㅡㅡㅡㅡㅡㅡㅡ\n",
    "##### 집합의 교집합 이용"
   ]
  },
  {
   "cell_type": "code",
   "execution_count": 1,
   "metadata": {},
   "outputs": [
    {
     "name": "stdout",
     "output_type": "stream",
     "text": [
      "{'Park'}\n"
     ]
    }
   ],
   "source": [
    "partyA = set([\"Park\", \"Kim\", \"Lee\"])\n",
    "partyB = set([\"Park\", \"Choi\"])\n",
    "\n",
    "print(partyA & partyB)"
   ]
  },
  {
   "attachments": {},
   "cell_type": "markdown",
   "metadata": {},
   "source": [
    "# 연습문제 2\n",
    "\n",
    "### 파일에서 중복되지 않은 단어의 개수와 해당 단어를 출력하는 프로그램을 작성하시오.\n",
    "\n",
    "##### ㅡㅡㅡㅡㅡㅡㅡㅡㅡㅡㅡㅡㅡㅡㅡㅡㅡㅡㅡㅡㅡㅡㅡㅡㅡㅡㅡㅡㅡㅡㅡㅡㅡ\n",
    "##### 파일 이름을 입력 받아 파일 불러옴\n",
    "##### 줄마다 파일에서 불러오고 해당 줄을 다시 한번 단어마다 분리\n",
    "##### 같은 단어 중복을 없애햐하므로, 단어의 대문자들을 소문자로 교체\n",
    "##### 단어 뒤에 \".\" 이 있으면 안되므로, 검사 후 삭제\n",
    "##### 이후 집합에 존재할 경우 루프를 넘어가고 존재 안할 경우에는 집합에 추가\n"
   ]
  },
  {
   "cell_type": "code",
   "execution_count": 15,
   "metadata": {},
   "outputs": [
    {
     "name": "stdout",
     "output_type": "stream",
     "text": [
      "파일 이름 :  proverbs.txt\n",
      "사용된 단어의 개수 : 18\n",
      "{'begun', 'that', 'of', 'well', 'ends', 'bad', 'feather', 'all', 'done', 'travels', 'a', 'half', 'together', 'flock', 'fast', 'is', 'news', 'birds'}\n"
     ]
    }
   ],
   "source": [
    "words = set()\n",
    "\n",
    "data = input(\"파일 이름 : \")\n",
    "\n",
    "file = open(data)\n",
    "\n",
    "for line in file:\n",
    "    lineword = line.split()\n",
    "    for word in lineword:\n",
    "        w = word.lower()\n",
    "        if \".\" in w:\n",
    "            w = w.replace('.', '')\n",
    "        if w in words:\n",
    "            continue\n",
    "        else:\n",
    "            words.add(w)\n",
    "\n",
    "file.close()\n",
    "\n",
    "print(\"파일 이름 :\", data)\n",
    "print(\"사용된 단어의 개수 :\", len(words))\n",
    "print(words)"
   ]
  },
  {
   "attachments": {},
   "cell_type": "markdown",
   "metadata": {},
   "source": [
    "# 연습문제 3\n",
    "\n",
    "### 첨부한 파일(proverbs.txt)을 읽어서 포함된 각 단어의 빈도수를 출력하는 프로그램을 작성하시오\n",
    "\n",
    "##### ㅡㅡㅡㅡㅡㅡㅡㅡㅡㅡㅡㅡㅡㅡㅡㅡㅡㅡㅡㅡㅡㅡㅡㅡㅡㅡㅡㅡㅡㅡㅡㅡㅡㅡㅡㅡㅡㅡㅡㅡㅡㅡㅡㅡㅡㅡㅡㅡㅡㅡㅡㅡㅡㅡㅡㅡㅡㅡ\n",
    "##### 파일 불러오고 하는 과정은 2번과 동일\n",
    "##### 단어 뒤의 \".\"문자가 있으면 안되므로 삭제\n",
    "##### 딕셔너리에 이미 존재하면 안되므로 딕셔너리의 keys() 함수를 통해 해당 단어가 딕셔너리에 존재하는지 판단\n",
    "##### 존재할 경우 해당 키의 value를 +1, 존재하지않을 경우 딕셔너리에 {\" \" : 1}의 느낌으로 추가"
   ]
  },
  {
   "cell_type": "code",
   "execution_count": 23,
   "metadata": {},
   "outputs": [
    {
     "name": "stdout",
     "output_type": "stream",
     "text": [
      "파일 이름 : proverbs.txt\n",
      "사용된 단어의 개수 : 19\n",
      "{'All': 1, 'is': 2, 'well': 2, 'that': 1, 'ends': 1, 'Bad': 1, 'news': 1, 'travels': 1, 'fast': 1, 'Well': 1, 'begun': 1, 'half': 1, 'done': 1, 'Birds': 1, 'of': 1, 'a': 1, 'feather': 1, 'flock': 1, 'together': 1}\n"
     ]
    }
   ],
   "source": [
    "words = dict()\n",
    "\n",
    "data = input(\"파일 이름 : \")\n",
    "\n",
    "file = open(data)\n",
    "\n",
    "for line in file:\n",
    "    lineword = line.split()\n",
    "    for word in lineword:\n",
    "        w = word\n",
    "        if \".\" in w:\n",
    "            w = word.replace('.', '')\n",
    "        if w in words.keys():\n",
    "            words[w] += 1\n",
    "        else:\n",
    "            words[w] = 1\n",
    "\n",
    "file.close()\n",
    "\n",
    "print(\"파일 이름 :\", data)\n",
    "print(\"사용된 단어의 개수 :\", len(words))\n",
    "print(words)"
   ]
  },
  {
   "attachments": {},
   "cell_type": "markdown",
   "metadata": {},
   "source": [
    "# 연습문제 4\n",
    "\n",
    "### 입력 받은 문자열에 미리 정해진 축약어가 포함된 경우에는, 해당 축약어를 풀어서 출력하시오.\n",
    "##### B4(Before), TX(Thanks), BBL(Be Back Later), BCNU(Be Seeing You), HAND(Have A Nice Day)\n",
    "\n",
    "##### ㅡㅡㅡㅡㅡㅡㅡㅡㅡㅡㅡㅡㅡㅡㅡㅡㅡㅡㅡㅡㅡㅡㅡㅡㅡㅡㅡㅡㅡㅡㅡㅡㅡㅡㅡㅡㅡㅡㅡㅡㅡㅡㅡㅡㅡㅡㅡㅡㅡㅡㅡㅡㅡㅡㅡ\n",
    "##### 번역할 문장을 띄어쓰기를 통해 입력받음\n",
    "##### 앞의 문자열을 if, elif 문을 통해 어떤 명령언지 판별, 이후 2번째로 입력받았던 문자열의 앞에 추가"
   ]
  },
  {
   "cell_type": "code",
   "execution_count": 29,
   "metadata": {},
   "outputs": [
    {
     "name": "stdout",
     "output_type": "stream",
     "text": [
      "Thanks mr.Park\n"
     ]
    }
   ],
   "source": [
    "command, myStr = input(\"번역할 문장 입력 :\").split()\n",
    "\n",
    "if command == \"B4\":\n",
    "    myStr = \"Before \" + myStr\n",
    "elif command == \"TX\":\n",
    "    myStr = \"Thanks \" + myStr\n",
    "elif command == \"BBL\":\n",
    "    myStr = \"BBL \" + myStr\n",
    "elif command == \"BCNU\":\n",
    "    myStr = \"Be Seeing You \" + myStr\n",
    "elif command == \"HAND\":\n",
    "    myStr = \"Have A Nice Day \" + myStr\n",
    "\n",
    "print(myStr)"
   ]
  }
 ],
 "metadata": {
  "kernelspec": {
   "display_name": "Python 3",
   "language": "python",
   "name": "python3"
  },
  "language_info": {
   "codemirror_mode": {
    "name": "ipython",
    "version": 3
   },
   "file_extension": ".py",
   "mimetype": "text/x-python",
   "name": "python",
   "nbconvert_exporter": "python",
   "pygments_lexer": "ipython3",
   "version": "3.11.5"
  },
  "orig_nbformat": 4
 },
 "nbformat": 4,
 "nbformat_minor": 2
}
