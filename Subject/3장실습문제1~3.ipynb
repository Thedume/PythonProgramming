{
 "cells": [
  {
   "attachments": {},
   "cell_type": "markdown",
   "metadata": {},
   "source": [
    "## 3장 실습문제 1\n",
    "#### BMI 계산\n",
    "#### 키 (M)와 몸무게를 입력하면 BMI가 출력"
   ]
  },
  {
   "cell_type": "code",
   "execution_count": null,
   "metadata": {},
   "outputs": [],
   "source": [
    "weight, height = map(float, input(\"몸무게와 키(M)를 입력해주세요 : \").split())\n",
    "\n",
    "print(\"BMI: \", weight / height**2)"
   ]
  },
  {
   "attachments": {},
   "cell_type": "markdown",
   "metadata": {},
   "source": [
    "## 3장 실습문제 2\n",
    "#### 거스름돈 계산\n",
    "#### 투입한 돈, 물건 가격을 입력받음\n",
    "#### 투입한돈 - 물건가격을 통해 거스름돈 출력\n",
    "#### (ex) 2600 - 2600//500 (= 4) * 500을 통해 출력할 동전의 양 계산"
   ]
  },
  {
   "cell_type": "code",
   "execution_count": null,
   "metadata": {},
   "outputs": [],
   "source": [
    "insertMoney = int(input(\"투입한 돈 : \"))\n",
    "price = int(input(\"물건 가격 : \"))\n",
    "money = insertMoney - price\n",
    "\n",
    "print(\"거스름돈 : \", money)\n",
    "print(\"500 : \", money//500)\n",
    "money -= money//500 * 500\n",
    "print(\"100 : \", money//100)\n",
    "money -= money//100 * 100\n",
    "print(\"50 : \", money//50)\n",
    "money -= money//50 * 50\n",
    "print(\"10 : \", money//10)\n",
    "money -= money//10 * 10"
   ]
  },
  {
   "attachments": {},
   "cell_type": "markdown",
   "metadata": {},
   "source": [
    "## 3장 실습문제 3\n",
    "#### 윤년 판단하기\n",
    "#### 판단할 연도 입력받음\n",
    "#### 조건1. 4로 나누어 떨어지는 해\n",
    "#### 조건2. 100으로 나누어 떨어지는 해는 윤년이 아님\n",
    "#### 조건3. 400으로 나누어 떨어지는 해는 윤년\n",
    "\n",
    "#### 4로 나누어 떨어지지만 100으로 나누어 떨어지면안되므로 조건\n",
    "#### 하지만 400으로 나누어 떨어지면 되므로 뒤에 조건 year%400 == 0 추가"
   ]
  },
  {
   "cell_type": "code",
   "execution_count": 2,
   "metadata": {},
   "outputs": [
    {
     "name": "stdout",
     "output_type": "stream",
     "text": [
      "윤년입니다.\n"
     ]
    }
   ],
   "source": [
    "year = int(input(\"연도를 입력하세요. : \"))\n",
    "\n",
    "if (year % 4 == 0 and year % 100 != 0) or year % 400 == 0:\n",
    "    print(\"윤년입니다.\")\n",
    "else:\n",
    "    print(\"윤년이 아닙니다.\")"
   ]
  }
 ],
 "metadata": {
  "kernelspec": {
   "display_name": "Python 3",
   "language": "python",
   "name": "python3"
  },
  "language_info": {
   "codemirror_mode": {
    "name": "ipython",
    "version": 3
   },
   "file_extension": ".py",
   "mimetype": "text/x-python",
   "name": "python",
   "nbconvert_exporter": "python",
   "pygments_lexer": "ipython3",
   "version": "3.11.5"
  },
  "orig_nbformat": 4
 },
 "nbformat": 4,
 "nbformat_minor": 2
}
