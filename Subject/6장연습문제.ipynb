{
 "cells": [
  {
   "attachments": {},
   "cell_type": "markdown",
   "metadata": {},
   "source": [
    "# 연습문제 1\n",
    "\n",
    "### 1부터 n까지 제곱의 합을 구하는 프로그램을 작성하시오.\n",
    "\n",
    "##### ㅡㅡㅡㅡㅡㅡㅡㅡㅡㅡㅡㅡㅡㅡㅡㅡㅡㅡㅡㅡㅡㅡㅡㅡㅡㅡㅡㅡㅡㅡ\n",
    "##### 함수 내부의 s에 제곱하는 수를 계속하여 더하는 반복문을 설정\n",
    "##### 이후 반복이 끝나면 s를 return\n",
    "\n",
    "##### n 입력을 받을때 양수가 아닐 경우 프로그램 종료하도록 설정"
   ]
  },
  {
   "cell_type": "code",
   "execution_count": 1,
   "metadata": {},
   "outputs": [
    {
     "name": "stdout",
     "output_type": "stream",
     "text": [
      "#프로그램 종료\n"
     ]
    }
   ],
   "source": [
    "def sum_sq(n):\n",
    "    s = 0\n",
    "\n",
    "    for i in range(1, n+1):\n",
    "        s += i ** 2\n",
    "    \n",
    "    return s\n",
    "\n",
    "n = int(input())\n",
    "\n",
    "if n > 0:\n",
    "    print(sum_sq(n))\n",
    "else:\n",
    "    print(\"#프로그램 종료\")\n",
    "    exit(1)"
   ]
  },
  {
   "attachments": {},
   "cell_type": "markdown",
   "metadata": {},
   "source": [
    "# 연습문제 2\n",
    "\n",
    "### 함수의 인자로 튜플을 받아 최댓값과 최솟값을 반환하는 함수를 구현하시오\n",
    "\n",
    "##### ㅡㅡㅡㅡㅡㅡㅡㅡㅡㅡㅡㅡㅡㅡㅡㅡㅡㅡㅡㅡㅡㅡㅡㅡㅡㅡㅡㅡㅡㅡㅡㅡㅡㅡㅡㅡㅡㅡㅡㅡ\n",
    "##### 여러가지의 정수값을 튜플로 입력 받고 함수에 입력\n",
    "##### 함수는 max(), min()를 통해 최대값과 최소값을 반환"
   ]
  },
  {
   "cell_type": "code",
   "execution_count": 20,
   "metadata": {},
   "outputs": [
    {
     "name": "stdout",
     "output_type": "stream",
     "text": [
      "(100, 20, 30, 40, -10, 0, 50, 70) 의 최댓값 : 100, 최솟값 : -10\n"
     ]
    }
   ],
   "source": [
    "def get_max_min(tpl):\n",
    "    return max(tpl), min(tpl)\n",
    "\n",
    "n = tuple(map(int, input(\"여러개의 정수 입력 : \").split()))\n",
    "ma, mi = get_max_min(n)\n",
    "print(\"{}\".format(n), \"의 최댓값 : {}, 최솟값 : {}\".format(ma, mi))"
   ]
  },
  {
   "attachments": {},
   "cell_type": "markdown",
   "metadata": {},
   "source": [
    "# 연습문제 3\n",
    "\n",
    "### 양수를 입력받아 소수(prime number)인지 여부를 판단하는 함수를 작성하시오.\n",
    "### ㅡㅡㅡㅡㅡㅡㅡㅡㅡㅡㅡㅡㅡㅡㅡㅡㅡㅡㅡㅡㅡㅡㅡㅡㅡㅡㅡㅡㅡㅡㅡㅡㅡㅡㅡㅡㅡㅡㅡㅡ\n",
    "\n",
    "##### 함수 : 입력받은 수까지 계속 반복하며 입력받은 수와 반복문의 i 값이 같을 경우 소수이므로 True 반환\n",
    "##### 함수 : 같은 경우가 아니면 중간에 break 하게 되고, 반복문이 끝난 경우는 소수가 아닌 결과므로 False 반환"
   ]
  },
  {
   "cell_type": "code",
   "execution_count": 16,
   "metadata": {},
   "outputs": [
    {
     "name": "stdout",
     "output_type": "stream",
     "text": [
      "False\n"
     ]
    }
   ],
   "source": [
    "def is_prime(n):\n",
    "    for i in range(2, n+1):\n",
    "        if n == i:\n",
    "            return True\n",
    "        if n % i == 0:\n",
    "            break\n",
    "    return False\n",
    "\n",
    "n = int(input(\"정수 입력 : \"))\n",
    "print(is_prime(n))"
   ]
  },
  {
   "attachments": {},
   "cell_type": "markdown",
   "metadata": {},
   "source": [
    "# 연습문제 4\n",
    "\n",
    "### 사용자가 입력하는 모든 정수의 평균을 구하는 프로그램을 작성하시오.\n",
    "### ㅡㅡㅡㅡㅡㅡㅡㅡㅡㅡㅡㅡㅡㅡㅡㅡㅡㅡㅡㅡㅡㅡㅡㅡㅡㅡㅡㅡㅡㅡㅡㅡㅡㅡㅡ\n",
    "\n",
    "##### n을 통해 리스트로 정수값을 나누어 입력받고 언팩하여 함수 호출\n",
    "##### 함수는 갯수가 확정되지않은 값을 받는 것이므로 가변 인수를 이용"
   ]
  },
  {
   "cell_type": "code",
   "execution_count": 18,
   "metadata": {},
   "outputs": [
    {
     "name": "stdout",
     "output_type": "stream",
     "text": [
      "[100, 20, 30, 40, -10, 0, 50, 70] 의 평균 :  37.5\n"
     ]
    }
   ],
   "source": [
    "def avg(*n):\n",
    "    s = 0\n",
    "    for i in n:\n",
    "        s += i\n",
    "\n",
    "    return s/len(n)\n",
    "\n",
    "\n",
    "n = list(map(int, input().split()))\n",
    "\n",
    "print(n, \"의 평균 : \", avg(*n))"
   ]
  }
 ],
 "metadata": {
  "kernelspec": {
   "display_name": "Python 3",
   "language": "python",
   "name": "python3"
  },
  "language_info": {
   "codemirror_mode": {
    "name": "ipython",
    "version": 3
   },
   "file_extension": ".py",
   "mimetype": "text/x-python",
   "name": "python",
   "nbconvert_exporter": "python",
   "pygments_lexer": "ipython3",
   "version": "3.11.5"
  },
  "orig_nbformat": 4
 },
 "nbformat": 4,
 "nbformat_minor": 2
}
