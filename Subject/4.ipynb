{
 "cells": [
  {
   "attachments": {},
   "cell_type": "markdown",
   "metadata": {},
   "source": [
    "## 연습문제 1\n",
    "### 동전 던지기 게임\n",
    "#### 동전 던져서 랜덤하게 앞/뒷면이 나오도록\n",
    "\n",
    "##### 풀이\n",
    "##### randrange를 통해 0 혹은 1이 랜덤한 값 나오도록 하며 해당 값이 1 이면 앞면 출력, 0일경우 뒷면 출력되도록함.\n"
   ]
  },
  {
   "cell_type": "code",
   "execution_count": 1,
   "metadata": {},
   "outputs": [
    {
     "name": "stdout",
     "output_type": "stream",
     "text": [
      "앞면\n"
     ]
    }
   ],
   "source": [
    "import random\n",
    "\n",
    "if random.randrange(0, 2) == 1:\n",
    "    print(\"앞면\")\n",
    "else:\n",
    "    print(\"뒷면\")"
   ]
  },
  {
   "attachments": {},
   "cell_type": "markdown",
   "metadata": {},
   "source": [
    "## 연습문제 2\n",
    "### 주사위 던지기 게임\n",
    "#### player1과 player2가 각각 주사위를 한번씩 던져서 높은 숫자가 나오는 사람이 이기는 게임\n",
    "\n",
    "##### 풀이\n",
    "##### 플레이어1, 2 각각 1~6까지의 값이 들어가도록 함\n",
    "##### 조건문을 통해 더 큰 값이 이기도록하며, 같은 값일 경우 비겼다고 출력"
   ]
  },
  {
   "cell_type": "code",
   "execution_count": 28,
   "metadata": {},
   "outputs": [
    {
     "name": "stdout",
     "output_type": "stream",
     "text": [
      "주사위 던지기 게임 시작!\n",
      "플레이어1 :  2\n",
      "플레이어2 :  3\n",
      "player2 가 승리했습니다.\n"
     ]
    }
   ],
   "source": [
    "print(\"주사위 던지기 게임 시작!\")\n",
    "player1 = random.randint(1, 6)\n",
    "print(\"플레이어1 : \", player1)\n",
    "player2 = random.randint(1, 6)\n",
    "print(\"플레이어2 : \", player2)\n",
    "\n",
    "if player1 > player2:\n",
    "    print(\"player1 이 승리했습니다.\")\n",
    "elif player1 == player2:\n",
    "    print(\"비겼습니다.\")\n",
    "else:\n",
    "    print(\"player2 가 승리했습니다.\")"
   ]
  },
  {
   "attachments": {},
   "cell_type": "markdown",
   "metadata": {},
   "source": [
    "## 연습문제 3\n",
    "### 원의 내부 좌표인지 판단하는 프로그램\n",
    "#### 원의 중심 좌표(x, y)와 반지름을 한 줄로 입력 받음(정수만 입력)\n",
    "#### 이후에 입력하는 좌표가 위의 원 내부에 포함된 좌표인지를 판단\n",
    "\n",
    "##### 풀이\n",
    "##### 원의 정보(좌표, 반지름) 입력받고, 탐지할 좌표 입력받음\n",
    "##### 원의 방정식을 사용하거나 원의 좌표와 탐지할 좌표의 거리 공식을 사용하여 반지름과의 길이를 비교해서 내/외부 판단"
   ]
  },
  {
   "cell_type": "code",
   "execution_count": 34,
   "metadata": {},
   "outputs": [
    {
     "name": "stdout",
     "output_type": "stream",
     "text": [
      "좌표 -9, 9는 원의 외부 좌표\n"
     ]
    }
   ],
   "source": [
    "import math\n",
    "\n",
    "x, y, r = map(int, input(\"원의 x, y 좌표 & 반지름 입력 : \").split())\n",
    "X, Y = map(int, input(\"점의 X, Y좌표 입력 : \").split())\n",
    "\n",
    "# if (x - X)**2 + (y - Y)**2 < r**2: 방정식 사용한 것\n",
    "if math.sqrt((x - X)**2 + (y - Y)**2) < r: # 원의 중심과 좌표와 거리를 이용한 것\n",
    "    print(f\"좌표 {X}, {Y}는 원의 내부 좌표\")\n",
    "else:\n",
    "    print(f\"좌표 {X}, {Y}는 원의 외부 좌표\")"
   ]
  },
  {
   "attachments": {},
   "cell_type": "markdown",
   "metadata": {},
   "source": [
    "## 연습문제 4\n",
    "### 수학 문제 생성 프로그램\n",
    "#### 사칙 연산(+,-,*,/) 중에 랜덤하게 연산자를 선택\n",
    "##### > 나누기 연산자의 결과도 처리할 수 있도록 작성\n",
    "\n",
    "##### 풀이\n",
    "##### 랜덤한 연산용도의 숫자 생성\n",
    "##### 연산자 기호 정할 변수 생성\n",
    "##### 각각의 연산할 경우를 나누고 해당 값 비교후 정답/오답 구분"
   ]
  },
  {
   "cell_type": "code",
   "execution_count": 46,
   "metadata": {},
   "outputs": [
    {
     "name": "stdout",
     "output_type": "stream",
     "text": [
      "정답은 0.72\n"
     ]
    }
   ],
   "source": [
    "from random import *\n",
    "\n",
    "a, b = randint(1, 100), randint(1, 100)\n",
    "\n",
    "k = randint(1, 4)\n",
    "\n",
    "if k == 1:\n",
    "    if int(input(f\"{a} + {b} = \")) == a+b:\n",
    "        print(\"정답입니다.\")\n",
    "    else:\n",
    "        print(\"정답은 %d\"%(a+b))\n",
    "elif k == 2:\n",
    "    if int(input(f\"{a} - {b} = \")) == a-b:\n",
    "        print(\"정답입니다.\")\n",
    "    else:\n",
    "        print(\"정답은 %d\"%(a-b))\n",
    "elif k == 3:\n",
    "    if int(input(f\"{a} * {b} = \")) == a*b:\n",
    "        print(\"정답입니다.\")\n",
    "    else:\n",
    "        print(\"정답은 %d\"%(a*b))\n",
    "elif k == 4:\n",
    "    if float(input(f\"{a} / {b} = \")) == a/b:\n",
    "        print(\"정답입니다.\")\n",
    "    else:\n",
    "        print(\"정답은 %0.2f\"%(a/b))\n"
   ]
  }
 ],
 "metadata": {
  "kernelspec": {
   "display_name": "Python 3",
   "language": "python",
   "name": "python3"
  },
  "language_info": {
   "codemirror_mode": {
    "name": "ipython",
    "version": 3
   },
   "file_extension": ".py",
   "mimetype": "text/x-python",
   "name": "python",
   "nbconvert_exporter": "python",
   "pygments_lexer": "ipython3",
   "version": "3.11.5"
  },
  "orig_nbformat": 4
 },
 "nbformat": 4,
 "nbformat_minor": 2
}
