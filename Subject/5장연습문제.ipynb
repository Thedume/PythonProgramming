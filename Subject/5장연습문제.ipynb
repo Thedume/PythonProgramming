{
 "cells": [
  {
   "attachments": {},
   "cell_type": "markdown",
   "metadata": {},
   "source": [
    "## 연습문제 1\n",
    "### for문을 사용하여 1부터 사용자가 입력한 수인 n까지 짝수의 합을 구하는 프로그램을 작성\n",
    "#### 조건문 없이 사용\n",
    "\n",
    "##### 풀이\n",
    "##### 입력받은 정수까지의 반복문 설정, range()함수의 마지막 인자는 step이므로 2를 넣으면 0, 2, 4, ... 로 이어짐\n",
    "##### 해당 값들을 s 변수에 더함"
   ]
  },
  {
   "cell_type": "code",
   "execution_count": 8,
   "metadata": {},
   "outputs": [
    {
     "name": "stdout",
     "output_type": "stream",
     "text": [
      "1부터 100까지의 합 : 2550\n"
     ]
    }
   ],
   "source": [
    "n = int(input(\"범위 지정을 위한 정수 입력 : \"))\n",
    "\n",
    "s = 0\n",
    "for i in range(0, n+1, 2):\n",
    "    s += i\n",
    "\n",
    "print(f\"1부터 {n}까지의 합 : {s}\")"
   ]
  },
  {
   "attachments": {},
   "cell_type": "markdown",
   "metadata": {},
   "source": [
    "## 연습문제 2\n",
    "### while문의 무한 루프를 사용하여 입력 받은 모든 정수의 합을 구하시오.\n",
    "### 0을 입력할 경우, 무한 루프를 종료한 뒤 총합을 출력\n",
    "### 전체 코드에서 print()는 한 개만 사용\n",
    "\n",
    "##### 풀이\n",
    "##### 무한반복 걸고 계속해서 정수 입력받고 입력받은 정수가 0일경우 반복문 해제\n",
    "##### 무한 반복할 동안 s에다 입력받은 정수를 더함"
   ]
  },
  {
   "cell_type": "code",
   "execution_count": 22,
   "metadata": {},
   "outputs": [
    {
     "name": "stdout",
     "output_type": "stream",
     "text": [
      "===========\n",
      "#입력받는 수의 합 : 4\n"
     ]
    }
   ],
   "source": [
    "i = 1\n",
    "s = 0\n",
    "while True:\n",
    "    n = int(input(f\"{i}: 정수 입력 :\"))\n",
    "    i += 1\n",
    "    s += n\n",
    "    if n == 0:\n",
    "        break;\n",
    "\n",
    "print(\"===========\\n#입력받는 수의 합 : %d\"%s)"
   ]
  },
  {
   "attachments": {},
   "cell_type": "markdown",
   "metadata": {},
   "source": [
    "## 연습문제 3\n",
    "### 반복문을 사용하여 아래와 같은 삼각형을 출력하시오.\n",
    "### 사용자가 입력한 정수에 따라 삼각형의 높이가 정해짐\n",
    "\n",
    "##### 풀이\n",
    "##### 입력한 깊이까지 반복문 설정\n",
    "##### 마지막 깊이 전까지는 * 앞에 역삼각형 모양으로 \" \"가 있어야함.\n",
    "##### 문자열의 \"\"+\"\" 특성 사용해서 출력"
   ]
  },
  {
   "cell_type": "code",
   "execution_count": 17,
   "metadata": {},
   "outputs": [
    {
     "name": "stdout",
     "output_type": "stream",
     "text": [
      "    *\n",
      "   ***\n",
      "  *****\n",
      " *******\n",
      "*********\n"
     ]
    }
   ],
   "source": [
    "n = int(input(\"트리의 깊이를 입력 : \"))\n",
    "for i in range(1, n+1):\n",
    "    print(' '*(n - i) + '*'*(2*i - 1))\n"
   ]
  },
  {
   "attachments": {},
   "cell_type": "markdown",
   "metadata": {},
   "source": [
    "## 연습문제 4\n",
    "### 500 ~ 1000사이의 모든 소수(prime number)를 출력하는 코드를 작성하시오.\n",
    "#### 풀이\n",
    "##### 500부터 1000까지 반복문 설정\n",
    "##### 소수의 특징인 1과 자기 자신만 나누어 떨어진다는 특성으로 반복문을 돌리며 나누어 떨어지는 수 찾음\n",
    "##### 반복할동안 자기 자신만 남으면 출력, 아닐 경우 다음 숫자로 넘어감"
   ]
  },
  {
   "cell_type": "code",
   "execution_count": 21,
   "metadata": {},
   "outputs": [
    {
     "name": "stdout",
     "output_type": "stream",
     "text": [
      "503 509 521 523 541 547 557 563 569 571 577 587 593 599 601 607 613 617 619 631 641 643 647 653 659 661 673 677 683 691 701 709 719 727 733 739 743 751 757 761 769 773 787 797 809 811 821 823 827 829 839 853 857 859 863 877 881 883 887 907 911 919 929 937 941 947 953 967 971 977 983 991 997 "
     ]
    }
   ],
   "source": [
    "for i in range(500, 1000+1):\n",
    "    for j in range(2, i+1):\n",
    "        if i == j:\n",
    "            print(f\"{i}\", end=\" \")\n",
    "        if i % j == 0:\n",
    "            break\n",
    "        "
   ]
  }
 ],
 "metadata": {
  "kernelspec": {
   "display_name": "Python 3",
   "language": "python",
   "name": "python3"
  },
  "language_info": {
   "codemirror_mode": {
    "name": "ipython",
    "version": 3
   },
   "file_extension": ".py",
   "mimetype": "text/x-python",
   "name": "python",
   "nbconvert_exporter": "python",
   "pygments_lexer": "ipython3",
   "version": "3.11.5"
  },
  "orig_nbformat": 4
 },
 "nbformat": 4,
 "nbformat_minor": 2
}
