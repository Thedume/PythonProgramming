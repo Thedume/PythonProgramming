{
 "cells": [
  {
   "attachments": {},
   "cell_type": "markdown",
   "metadata": {},
   "source": [
    "# 연습문제 1\n",
    "\n",
    "### 입력한 정수의 모든 약수를 리스트로 출력하는 코드를 작성하시오.\n",
    "### ㅡㅡㅡㅡㅡㅡㅡㅡㅡㅡㅡㅡㅡㅡㅡㅡㅡㅡㅡㅡㅡㅡㅡㅡㅡㅡㅡㅡㅡㅡㅡㅡㅡ\n",
    "\n",
    "##### 입력받은 값까지 계속 반복하다, i가 입력받은 수와 같다면 약수가 되므로 리스트에 append()"
   ]
  },
  {
   "cell_type": "code",
   "execution_count": 4,
   "metadata": {},
   "outputs": [
    {
     "name": "stdout",
     "output_type": "stream",
     "text": [
      "[1, 2, 4]\n"
     ]
    }
   ],
   "source": [
    "n = int(input(\"정수 입력: \"))\n",
    "myList = []\n",
    "for i in range(1, n+1):\n",
    "    if n % i == 0:\n",
    "        myList.append(i)\n",
    "\n",
    "print(myList)"
   ]
  },
  {
   "attachments": {},
   "cell_type": "markdown",
   "metadata": {},
   "source": [
    "# 연습문제 2\n",
    "\n",
    "### 3개의 정수를 입력 받아서 최대 공약수를 튜플로 출력하는 프로그램을 작성하시오.\n",
    "### ㅡㅡㅡㅡㅡㅡㅡㅡㅡㅡㅡㅡㅡㅡㅡㅡㅡㅡㅡㅡㅡㅡㅡㅡㅡㅡㅡㅡㅡㅡㅡㅡㅡㅡㅡㅡㅡㅡㅡㅡㅡ\n",
    "\n",
    "##### 무한반복하면서 여러가지 정수를 리스트로 입력받는데 해당 리스트의 크기가 3일 경우 무한반복 탈출, 아닐 경우 다시 입력받음.\n",
    "##### 이후 리스트의 최대값까지 반복을 한다.\n",
    "##### 리스트 내의 3가지 값이 동시에 나머지 값이 0인 경우가 공약수, 그중 가장 큰 값이 최대 공약수이므로 반복이 끝나고 튜플에 입력후 해당 튜플 출력"
   ]
  },
  {
   "cell_type": "code",
   "execution_count": 8,
   "metadata": {},
   "outputs": [
    {
     "name": "stdout",
     "output_type": "stream",
     "text": [
      "(9,)\n"
     ]
    }
   ],
   "source": [
    "myList = []\n",
    "while True:\n",
    "    myList = list(map(int, input(\"정수 입력 : \").split()))\n",
    "\n",
    "    if len(myList) == 3:\n",
    "        break\n",
    "    else:\n",
    "        print(\"#입력값 개수 오류\")\n",
    "        print(\"======================\")\n",
    "        continue\n",
    "\n",
    "for i in range(1, max(myList) + 1):\n",
    "    if myList[0] % i == 0 and myList[1] % i == 0 and myList[2] % i == 0:\n",
    "        gcd = i\n",
    "myTpl = (gcd, )\n",
    "print(myTpl)"
   ]
  },
  {
   "attachments": {},
   "cell_type": "markdown",
   "metadata": {},
   "source": [
    "# 연습문제 3\n",
    "\n",
    "### 로또 번호를 생성하는 프로그램을 작성하시오.\n",
    "#### 하나의 게임에서는 1 - 45사이의 6자리의 중복되지 않는 숫자 조합을 생성\n",
    "#### 실행 결과는 5게임을 출력\n",
    "#### 오름 차순으로 정렬된 리스트 형태를 출력\n",
    "#### ㅡㅡㅡㅡㅡㅡㅡㅡㅡㅡㅡㅡㅡㅡㅡㅡㅡㅡㅡㅡㅡㅡㅡㅡㅡㅡㅡㅡㅡㅡㅡㅡㅡㅡㅡㅡㅡㅡㅡㅡㅡㅡㅡㅡ\n",
    "\n",
    "##### game, enter 리스트 생성\n",
    "##### 해당 game 리스트의 크기가 5가 될때까지 반복\n",
    "##### enter 리스트의 크기가 6이 될때까지 반복\n",
    "##### 반복하는동안 랜덤값을 입력받고 해당 랜덤값이 enter 리스트에 있으면 append(), 없으면 continue를 하여 계속 반복을 진행\n",
    "##### 반복하면서 enter 리스트의 크기가 6이 되며 반복이 종료되고, enter 리스트를 정렬한 후 game리스트에 append()\n",
    "##### 해당 반복을 계속하며 game 리스트가 5가 되면 반복이 종료되고 이후 game 리스트 출력\n"
   ]
  },
  {
   "cell_type": "code",
   "execution_count": 22,
   "metadata": {},
   "outputs": [
    {
     "name": "stdout",
     "output_type": "stream",
     "text": [
      "# 로또 게임 시작 #\n",
      "1 Game : [15, 16, 25, 37, 43, 45]\n",
      "2 Game : [12, 13, 32, 39, 42, 45]\n",
      "3 Game : [13, 30, 33, 38, 41, 44]\n",
      "4 Game : [1, 12, 13, 18, 34, 44]\n",
      "5 Game : [1, 10, 15, 26, 35, 42]\n"
     ]
    }
   ],
   "source": [
    "from random import *\n",
    "game = []\n",
    "\n",
    "while len(game) != 5:\n",
    "    enter = []\n",
    "    while len(enter) != 6:\n",
    "        n = randrange(1, 46)\n",
    "        if n in enter:\n",
    "            continue\n",
    "        else:\n",
    "            enter.append(n)\n",
    "    \n",
    "    game.append(sorted(enter))\n",
    "\n",
    "\n",
    "print(\"# 로또 게임 시작 #\")\n",
    "for i in range(5):\n",
    "    n = i + 1\n",
    "    print(f\"{n} Game : {game[i]}\")"
   ]
  }
 ],
 "metadata": {
  "kernelspec": {
   "display_name": "Python 3",
   "language": "python",
   "name": "python3"
  },
  "language_info": {
   "codemirror_mode": {
    "name": "ipython",
    "version": 3
   },
   "file_extension": ".py",
   "mimetype": "text/x-python",
   "name": "python",
   "nbconvert_exporter": "python",
   "pygments_lexer": "ipython3",
   "version": "3.11.5"
  },
  "orig_nbformat": 4
 },
 "nbformat": 4,
 "nbformat_minor": 2
}
