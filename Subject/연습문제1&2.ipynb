{
 "cells": [
  {
   "attachments": {},
   "cell_type": "markdown",
   "metadata": {},
   "source": [
    "### 연습문제1                                                                                                                 \n",
    "#### 두 수의 합 출력\n",
    "##### 2개의 피 연산자만 입력받아 변수에 저장\n",
    "##### 두 정수는 슬래시(/)로 구분\n",
    "\n",
    "###### 2023-09-11"
   ]
  },
  {
   "cell_type": "code",
   "execution_count": 7,
   "metadata": {},
   "outputs": [
    {
     "name": "stdout",
     "output_type": "stream",
     "text": [
      "30\n"
     ]
    }
   ],
   "source": [
    "a, b = map(int, input(\"덧셈에 사용될 두개의 정수를 입력 : \").split(' / '))\n",
    "print(a+b)"
   ]
  },
  {
   "attachments": {},
   "cell_type": "markdown",
   "metadata": {},
   "source": [
    "### 연습문제2\n",
    "#### 문구 계산 결과 출력\n",
    "##### 볼펜 가격, 할인율, 개수 정보를 입력 받고 지불해야 하는 총 비용을 계산하시오.\n",
    "\n",
    "###### 2023-09-11"
   ]
  },
  {
   "cell_type": "code",
   "execution_count": 10,
   "metadata": {},
   "outputs": [
    {
     "name": "stdout",
     "output_type": "stream",
     "text": [
      "total :  54000\n"
     ]
    }
   ],
   "source": [
    "price = int(input(\"볼펜 가격 : \"))\n",
    "discount_rate = int(input(\"볼펜 할인율(%) : \"))\n",
    "amount = int(input(\"볼펜 개수 : \"))\n",
    "\n",
    "total = (price * (100-discount_rate)/100) * amount\n",
    "\n",
    "print(\"total : \", int(total))"
   ]
  }
 ],
 "metadata": {
  "kernelspec": {
   "display_name": "Python 3",
   "language": "python",
   "name": "python3"
  },
  "language_info": {
   "codemirror_mode": {
    "name": "ipython",
    "version": 3
   },
   "file_extension": ".py",
   "mimetype": "text/x-python",
   "name": "python",
   "nbconvert_exporter": "python",
   "pygments_lexer": "ipython3",
   "version": "3.11.5"
  },
  "orig_nbformat": 4
 },
 "nbformat": 4,
 "nbformat_minor": 2
}
