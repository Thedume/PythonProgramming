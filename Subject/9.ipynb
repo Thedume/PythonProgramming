{
 "cells": [
  {
   "cell_type": "markdown",
   "metadata": {},
   "source": [
    "# 연습문제 1\n",
    "\n",
    "### 문자열을 입력 받고 약어(머리 글자어)를 출력하는 프로그램을 작성하시오."
   ]
  },
  {
   "cell_type": "code",
   "execution_count": 7,
   "metadata": {},
   "outputs": [
    {
     "name": "stdout",
     "output_type": "stream",
     "text": [
      "NATO\n"
     ]
    }
   ],
   "source": [
    "myStr = input(\"문자열을 입력하시오 : \")\n",
    "result = \"\"\n",
    "\n",
    "for i in range(len(myStr)):\n",
    "    if myStr[i].isupper():\n",
    "        result += myStr[i]\n",
    "\n",
    "\n",
    "print(result)"
   ]
  },
  {
   "cell_type": "markdown",
   "metadata": {},
   "source": [
    "# 연습문제 2\n",
    "\n",
    "### 입력한 문자열이 회문인지 여부를 판단하는 프로그램을 작성하시오."
   ]
  },
  {
   "cell_type": "code",
   "execution_count": 15,
   "metadata": {},
   "outputs": [
    {
     "name": "stdout",
     "output_type": "stream",
     "text": [
      "회문입니다.\n"
     ]
    }
   ],
   "source": [
    "myStr = list(input())\n",
    "\n",
    "if myStr == list(reversed(myStr)):\n",
    "    print(\"회문입니다.\")\n",
    "else:\n",
    "    print(\"회문이 아닙니다.\")"
   ]
  },
  {
   "cell_type": "markdown",
   "metadata": {},
   "source": [
    "# 연습문제 3\n",
    "\n",
    "### 이메일 주소를 입력 받아 아이디와 도메인을 분리하는 프로그램을 작성하시오."
   ]
  },
  {
   "cell_type": "code",
   "execution_count": 16,
   "metadata": {},
   "outputs": [
    {
     "name": "stdout",
     "output_type": "stream",
     "text": [
      "ID : jjojin7168 / Domain: gmail.com\n"
     ]
    }
   ],
   "source": [
    "mailID, domain = input().split(\"@\")\n",
    "\n",
    "print(f\"ID : {mailID} / Domain: {domain}\")"
   ]
  },
  {
   "cell_type": "markdown",
   "metadata": {},
   "source": [
    "# 연습문제 4\n",
    "\n",
    "### 입력 받은 문자열을 분석하는 프로그램을 작성하시오."
   ]
  },
  {
   "cell_type": "code",
   "execution_count": 18,
   "metadata": {},
   "outputs": [
    {
     "name": "stdout",
     "output_type": "stream",
     "text": [
      "{'digits': 4, 'spaces': 6, 'alphas': 21}\n"
     ]
    }
   ],
   "source": [
    "re = {'digits' : 0, 'spaces' : 0, 'alphas' : 0}\n",
    "\n",
    "myStr = input()\n",
    "\n",
    "for i in range(len(myStr)):\n",
    "    if myStr[i].isdigit():\n",
    "        re['digits'] += 1\n",
    "    elif myStr[i] == ' ':\n",
    "        re['spaces'] += 1\n",
    "    elif myStr[i].isalpha():\n",
    "        re['alphas'] += 1\n",
    "\n",
    "print(re)"
   ]
  },
  {
   "cell_type": "markdown",
   "metadata": {},
   "source": [
    "# 연습문제 5\n",
    "\n",
    "### 첨부한 CSV 파일을 분석하여 실행화면과 같이 출력되도록 프로그램을 작성하시오."
   ]
  },
  {
   "cell_type": "code",
   "execution_count": 22,
   "metadata": {},
   "outputs": [
    {
     "name": "stdout",
     "output_type": "stream",
     "text": [
      "홍길동,2018,생활관A,312,3.18\n",
      "이름 : 홍길동\n",
      "학번 : 2018\n",
      "거주 : 생활관A\n",
      "호실 : 312\n",
      "학점 : 3.18\n",
      "\n",
      "김철수,2017,생활관B,102,3.25\n",
      "이름 : 김철수\n",
      "학번 : 2017\n",
      "거주 : 생활관B\n",
      "호실 : 102\n",
      "학점 : 3.25\n",
      "\n",
      "김영희,2018,생활관C,342,2.10\n",
      "이름 : 김영희\n",
      "학번 : 2018\n",
      "거주 : 생활관C\n",
      "호실 : 342\n",
      "학점 : 2.10\n",
      "\n",
      "강감찬,2019,생활관A,123,4.09이름 : 강감찬\n",
      "학번 : 2019\n",
      "거주 : 생활관A\n",
      "호실 : 123\n",
      "학점 : 4.09\n"
     ]
    }
   ],
   "source": [
    "f = open('students.txt')\n",
    "\n",
    "for line in f:\n",
    "    data = line.split(\",\")\n",
    "\n",
    "    print(line, end=\"\")\n",
    "\n",
    "    print(f\"이름 : {data[0]}\")\n",
    "    print(f\"학번 : {data[1]}\")\n",
    "    print(f\"거주 : {data[2]}\")\n",
    "    print(f\"호실 : {data[3]}\")\n",
    "    print(f\"학점 : {data[4]}\")\n",
    "    \n",
    "\n",
    "f.close()"
   ]
  },
  {
   "cell_type": "code",
   "execution_count": null,
   "metadata": {},
   "outputs": [],
   "source": []
  }
 ],
 "metadata": {
  "kernelspec": {
   "display_name": "Python 3",
   "language": "python",
   "name": "python3"
  },
  "language_info": {
   "codemirror_mode": {
    "name": "ipython",
    "version": 3
   },
   "file_extension": ".py",
   "mimetype": "text/x-python",
   "name": "python",
   "nbconvert_exporter": "python",
   "pygments_lexer": "ipython3",
   "version": "3.11.5"
  }
 },
 "nbformat": 4,
 "nbformat_minor": 2
}
