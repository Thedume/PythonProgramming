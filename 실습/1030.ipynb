{
 "cells": [
  {
   "cell_type": "markdown",
   "metadata": {},
   "source": [
    "# csv 파일 import"
   ]
  },
  {
   "cell_type": "code",
   "execution_count": 1,
   "metadata": {},
   "outputs": [],
   "source": [
    "import csv"
   ]
  },
  {
   "cell_type": "markdown",
   "metadata": {},
   "source": [
    "# 파일 오픈\n",
    "# 한줄씩 입력 받음\n",
    "# 파일 닫음"
   ]
  },
  {
   "cell_type": "code",
   "execution_count": 4,
   "metadata": {},
   "outputs": [
    {
     "name": "stdout",
     "output_type": "stream",
     "text": [
      "Coffee/Milk\n",
      "Espresso/No\n",
      "Long Black/No\n",
      "Flat White/Yes\n",
      "Cappuccino/Yes - Frothy\n",
      "Affogato/No\n"
     ]
    }
   ],
   "source": [
    "f = open(\"C:\\\\Users\\\\JinYoung\\\\Desktop\\\\GIT\\\\PythonProgramming\\\\data\\\\coffee.csv\")\n",
    "for row in csv.reader(f):\n",
    "    print(row[0], row[2], sep = \"/\")\n",
    "f.close()"
   ]
  },
  {
   "cell_type": "code",
   "execution_count": null,
   "metadata": {},
   "outputs": [],
   "source": []
  }
 ],
 "metadata": {
  "kernelspec": {
   "display_name": "Python 3",
   "language": "python",
   "name": "python3"
  },
  "language_info": {
   "codemirror_mode": {
    "name": "ipython",
    "version": 3
   },
   "file_extension": ".py",
   "mimetype": "text/x-python",
   "name": "python",
   "nbconvert_exporter": "python",
   "pygments_lexer": "ipython3",
   "version": "3.11.5"
  }
 },
 "nbformat": 4,
 "nbformat_minor": 2
}
